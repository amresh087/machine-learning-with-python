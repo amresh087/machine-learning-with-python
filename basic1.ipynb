{
 "cells": [
  {
   "cell_type": "code",
   "execution_count": 1,
   "id": "81a26b09-04c3-4450-bd4d-5c7c0de9b496",
   "metadata": {},
   "outputs": [
    {
     "data": {
      "text/plain": [
       "1"
      ]
     },
     "execution_count": 1,
     "metadata": {},
     "output_type": "execute_result"
    }
   ],
   "source": [
    "1"
   ]
  },
  {
   "cell_type": "code",
   "execution_count": 2,
   "id": "a990db4b-0057-4a19-8498-85ec64b57f85",
   "metadata": {},
   "outputs": [
    {
     "data": {
      "text/plain": [
       "2"
      ]
     },
     "execution_count": 2,
     "metadata": {},
     "output_type": "execute_result"
    }
   ],
   "source": [
    "1+1"
   ]
  },
  {
   "cell_type": "code",
   "execution_count": 3,
   "id": "2490ea35-c6c1-4962-a742-1b2ed6f78890",
   "metadata": {},
   "outputs": [
    {
     "data": {
      "text/plain": [
       "16"
      ]
     },
     "execution_count": 3,
     "metadata": {},
     "output_type": "execute_result"
    }
   ],
   "source": [
    "2**4\n"
   ]
  },
  {
   "cell_type": "code",
   "execution_count": 3,
   "id": "18af3503-d82e-416d-a42f-bbfae1e1da74",
   "metadata": {},
   "outputs": [
    {
     "data": {
      "text/plain": [
       "19.5"
      ]
     },
     "execution_count": 3,
     "metadata": {},
     "output_type": "execute_result"
    }
   ],
   "source": [
    "2+4*5-5/2"
   ]
  },
  {
   "cell_type": "code",
   "execution_count": 6,
   "id": "806ef296-c3de-4f0d-89dd-6d3f563246c9",
   "metadata": {},
   "outputs": [],
   "source": [
    "var =8\n"
   ]
  },
  {
   "cell_type": "code",
   "execution_count": 8,
   "id": "3f4f9d8d-c2f4-43a5-a1c0-ecf1179cc1d1",
   "metadata": {},
   "outputs": [
    {
     "data": {
      "text/plain": [
       "15"
      ]
     },
     "execution_count": 8,
     "metadata": {},
     "output_type": "execute_result"
    }
   ],
   "source": [
    "x=5\n",
    "y=10\n",
    "x+y"
   ]
  },
  {
   "cell_type": "code",
   "execution_count": 9,
   "id": "05869543-6dd7-482b-8636-e1f71ab386d1",
   "metadata": {},
   "outputs": [],
   "source": [
    "#String"
   ]
  },
  {
   "cell_type": "code",
   "execution_count": 10,
   "id": "386e5626-ab38-4d20-8842-8f76dd9c15fb",
   "metadata": {},
   "outputs": [],
   "source": [
    "mane_y=5"
   ]
  },
  {
   "cell_type": "code",
   "execution_count": 11,
   "id": "36bc20dc-b932-4424-88f9-889242718800",
   "metadata": {},
   "outputs": [
    {
     "data": {
      "text/plain": [
       "'Amresh'"
      ]
     },
     "execution_count": 11,
     "metadata": {},
     "output_type": "execute_result"
    }
   ],
   "source": [
    "'Amresh'"
   ]
  },
  {
   "cell_type": "code",
   "execution_count": 12,
   "id": "e4e27e7c-06fc-4e9e-8b1f-f70f2ebd3048",
   "metadata": {},
   "outputs": [
    {
     "data": {
      "text/plain": [
       "'this is string'"
      ]
     },
     "execution_count": 12,
     "metadata": {},
     "output_type": "execute_result"
    }
   ],
   "source": [
    "\"this is string\""
   ]
  },
  {
   "cell_type": "code",
   "execution_count": 13,
   "id": "e92dd713-914c-4b78-9b6c-cf710537b286",
   "metadata": {},
   "outputs": [],
   "source": [
    "x='hello'"
   ]
  },
  {
   "cell_type": "code",
   "execution_count": 14,
   "id": "a8681cb5-c990-4c32-bec1-0b8d5fae7e44",
   "metadata": {},
   "outputs": [
    {
     "data": {
      "text/plain": [
       "'hello'"
      ]
     },
     "execution_count": 14,
     "metadata": {},
     "output_type": "execute_result"
    }
   ],
   "source": [
    "x"
   ]
  },
  {
   "cell_type": "code",
   "execution_count": 15,
   "id": "c15d4c0e-7322-4478-88ea-4762a0ea8627",
   "metadata": {},
   "outputs": [
    {
     "name": "stdout",
     "output_type": "stream",
     "text": [
      "hello\n"
     ]
    }
   ],
   "source": [
    "print(x)"
   ]
  },
  {
   "cell_type": "code",
   "execution_count": 16,
   "id": "b97ea319-2a84-45e5-854a-9f3aeadda89d",
   "metadata": {},
   "outputs": [],
   "source": [
    "num=12\n",
    "name=\"Amresh\""
   ]
  },
  {
   "cell_type": "code",
   "execution_count": 23,
   "id": "878ebe77-7875-4c2a-8508-091a19347d33",
   "metadata": {},
   "outputs": [
    {
     "data": {
      "text/plain": [
       "'my name is Amresh and my number is 12'"
      ]
     },
     "execution_count": 23,
     "metadata": {},
     "output_type": "execute_result"
    }
   ],
   "source": [
    "'my name is {} and my number is {}'.format(name,num)"
   ]
  },
  {
   "cell_type": "code",
   "execution_count": 31,
   "id": "90fd3abb-b8a9-47ae-ba8d-00ddae5735f2",
   "metadata": {},
   "outputs": [],
   "source": [
    "s='abcdefg'"
   ]
  },
  {
   "cell_type": "code",
   "execution_count": 29,
   "id": "75f3660a-b56c-473f-a26c-d52ab8d6d7e0",
   "metadata": {},
   "outputs": [
    {
     "data": {
      "text/plain": [
       "'a'"
      ]
     },
     "execution_count": 29,
     "metadata": {},
     "output_type": "execute_result"
    }
   ],
   "source": [
    "s[0]"
   ]
  },
  {
   "cell_type": "code",
   "execution_count": 26,
   "id": "0009eae0-03af-4700-8490-54d26eba6148",
   "metadata": {},
   "outputs": [
    {
     "data": {
      "text/plain": [
       "'affgfg'"
      ]
     },
     "execution_count": 26,
     "metadata": {},
     "output_type": "execute_result"
    }
   ],
   "source": [
    "s[0:]"
   ]
  },
  {
   "cell_type": "code",
   "execution_count": 30,
   "id": "ea0aff15-648d-42e1-8897-17e5028b7177",
   "metadata": {},
   "outputs": [
    {
     "data": {
      "text/plain": [
       "''"
      ]
     },
     "execution_count": 30,
     "metadata": {},
     "output_type": "execute_result"
    }
   ],
   "source": [
    "s[:0]"
   ]
  },
  {
   "cell_type": "code",
   "execution_count": 32,
   "id": "91985431-97e6-46a0-a2e0-9a420fd60a53",
   "metadata": {},
   "outputs": [
    {
     "data": {
      "text/plain": [
       "'bcdefg'"
      ]
     },
     "execution_count": 32,
     "metadata": {},
     "output_type": "execute_result"
    }
   ],
   "source": [
    "s[1:]"
   ]
  },
  {
   "cell_type": "code",
   "execution_count": 33,
   "id": "777ca2e6-dcc8-48d1-942d-fdea4e5ff696",
   "metadata": {},
   "outputs": [
    {
     "data": {
      "text/plain": [
       "'bc'"
      ]
     },
     "execution_count": 33,
     "metadata": {},
     "output_type": "execute_result"
    }
   ],
   "source": [
    "s[1:3]"
   ]
  },
  {
   "cell_type": "code",
   "execution_count": 34,
   "id": "fc90795b-d4c5-4bc3-9155-99a9192ec720",
   "metadata": {},
   "outputs": [],
   "source": [
    "#list"
   ]
  },
  {
   "cell_type": "code",
   "execution_count": 35,
   "id": "0e240cf9-441e-4ddb-9dc3-e1239c964983",
   "metadata": {},
   "outputs": [
    {
     "data": {
      "text/plain": [
       "['a', 'b', 'c']"
      ]
     },
     "execution_count": 35,
     "metadata": {},
     "output_type": "execute_result"
    }
   ],
   "source": [
    "['a','b','c']"
   ]
  },
  {
   "cell_type": "code",
   "execution_count": 36,
   "id": "cfa5a991-d913-40d4-9507-d8ff92f76e2e",
   "metadata": {},
   "outputs": [],
   "source": [
    "mylist=['a','b','c']"
   ]
  },
  {
   "cell_type": "code",
   "execution_count": 37,
   "id": "dd77496f-89f1-48f0-a3de-37017498c4b0",
   "metadata": {},
   "outputs": [],
   "source": [
    "mylist.append('d')"
   ]
  },
  {
   "cell_type": "code",
   "execution_count": 38,
   "id": "3da1db7e-b14e-49b9-b3e5-97afb17948c0",
   "metadata": {},
   "outputs": [
    {
     "data": {
      "text/plain": [
       "['a', 'b', 'c', 'd']"
      ]
     },
     "execution_count": 38,
     "metadata": {},
     "output_type": "execute_result"
    }
   ],
   "source": [
    "mylist"
   ]
  },
  {
   "cell_type": "code",
   "execution_count": 40,
   "id": "ba3f9e04-8036-4335-a825-db38e96eaff1",
   "metadata": {},
   "outputs": [],
   "source": [
    "nest=[1,2,[3,4]]"
   ]
  },
  {
   "cell_type": "code",
   "execution_count": 41,
   "id": "8616fa12-c6ea-4030-abb4-6db918b3f79e",
   "metadata": {},
   "outputs": [
    {
     "data": {
      "text/plain": [
       "[1, 2, [3, 4]]"
      ]
     },
     "execution_count": 41,
     "metadata": {},
     "output_type": "execute_result"
    }
   ],
   "source": [
    "nest"
   ]
  },
  {
   "cell_type": "code",
   "execution_count": 42,
   "id": "af3bd622-a30c-4cd4-8b3d-fa6ac61686e2",
   "metadata": {},
   "outputs": [
    {
     "data": {
      "text/plain": [
       "1"
      ]
     },
     "execution_count": 42,
     "metadata": {},
     "output_type": "execute_result"
    }
   ],
   "source": [
    "nest[0]\n"
   ]
  },
  {
   "cell_type": "code",
   "execution_count": 43,
   "id": "b08c940e-8da8-42c7-9b2a-0aca6bb3390e",
   "metadata": {},
   "outputs": [
    {
     "data": {
      "text/plain": [
       "[3, 4]"
      ]
     },
     "execution_count": 43,
     "metadata": {},
     "output_type": "execute_result"
    }
   ],
   "source": [
    "nest[2]"
   ]
  },
  {
   "cell_type": "code",
   "execution_count": 44,
   "id": "e7893b0b-6b5a-4594-a418-a8b8dde51305",
   "metadata": {},
   "outputs": [
    {
     "data": {
      "text/plain": [
       "4"
      ]
     },
     "execution_count": 44,
     "metadata": {},
     "output_type": "execute_result"
    }
   ],
   "source": [
    "nest[2][1]\n"
   ]
  },
  {
   "cell_type": "code",
   "execution_count": 45,
   "id": "1a8df2f8-163b-453a-9044-cb793eb16203",
   "metadata": {},
   "outputs": [
    {
     "data": {
      "text/plain": [
       "3"
      ]
     },
     "execution_count": 45,
     "metadata": {},
     "output_type": "execute_result"
    }
   ],
   "source": [
    "nest[2][0]"
   ]
  },
  {
   "cell_type": "code",
   "execution_count": 47,
   "id": "666e7a03-24d9-47da-9fbc-26bcf2c8d890",
   "metadata": {},
   "outputs": [
    {
     "data": {
      "text/plain": [
       "True"
      ]
     },
     "execution_count": 47,
     "metadata": {},
     "output_type": "execute_result"
    }
   ],
   "source": [
    "True"
   ]
  },
  {
   "cell_type": "code",
   "execution_count": 49,
   "id": "4aedefde-b870-4384-9a76-00185390b7d3",
   "metadata": {},
   "outputs": [
    {
     "data": {
      "text/plain": [
       "False"
      ]
     },
     "execution_count": 49,
     "metadata": {},
     "output_type": "execute_result"
    }
   ],
   "source": [
    "False"
   ]
  },
  {
   "cell_type": "code",
   "execution_count": 50,
   "id": "8090e405-26c3-4289-8698-f44c74d7f9bf",
   "metadata": {},
   "outputs": [],
   "source": [
    "t=(1,2,3)"
   ]
  },
  {
   "cell_type": "code",
   "execution_count": 51,
   "id": "b7b474a4-09cc-4dd8-b199-9688121f3833",
   "metadata": {},
   "outputs": [
    {
     "data": {
      "text/plain": [
       "2"
      ]
     },
     "execution_count": 51,
     "metadata": {},
     "output_type": "execute_result"
    }
   ],
   "source": [
    "t[1]"
   ]
  },
  {
   "cell_type": "code",
   "execution_count": 52,
   "id": "98bd425b-6b8f-4c45-aafe-c11c23c434ed",
   "metadata": {},
   "outputs": [],
   "source": [
    "#set\n"
   ]
  },
  {
   "cell_type": "code",
   "execution_count": 53,
   "id": "a51a61db-8730-4418-b9a7-63409593fe3d",
   "metadata": {},
   "outputs": [
    {
     "data": {
      "text/plain": [
       "{1, 2, 3}"
      ]
     },
     "execution_count": 53,
     "metadata": {},
     "output_type": "execute_result"
    }
   ],
   "source": [
    "{1,2,3}"
   ]
  },
  {
   "cell_type": "code",
   "execution_count": 54,
   "id": "e382ae08-29d8-480f-955c-1b3bdfc41a18",
   "metadata": {},
   "outputs": [
    {
     "data": {
      "text/plain": [
       "{1, 2, 3}"
      ]
     },
     "execution_count": 54,
     "metadata": {},
     "output_type": "execute_result"
    }
   ],
   "source": [
    "{1,1,2,3,3}"
   ]
  },
  {
   "cell_type": "code",
   "execution_count": 55,
   "id": "ef434985-7c8d-4caf-bfbf-813d15a44f21",
   "metadata": {},
   "outputs": [
    {
     "data": {
      "text/plain": [
       "{1, 2, 3, 5, 6, 7, 8}"
      ]
     },
     "execution_count": 55,
     "metadata": {},
     "output_type": "execute_result"
    }
   ],
   "source": [
    "set([1,2,1,3,5,7,8,6,7])"
   ]
  },
  {
   "cell_type": "code",
   "execution_count": 56,
   "id": "a09dfaa9-c9f6-4c14-b3e9-ef0a504960b6",
   "metadata": {},
   "outputs": [],
   "source": [
    "s={1,2,3}"
   ]
  },
  {
   "cell_type": "code",
   "execution_count": 57,
   "id": "bf818a0c-533d-459e-9aa4-fe1107f3cb19",
   "metadata": {},
   "outputs": [],
   "source": [
    "s.add(6)"
   ]
  },
  {
   "cell_type": "code",
   "execution_count": 58,
   "id": "47deff1a-2229-40bd-9360-a65ee8df06fb",
   "metadata": {},
   "outputs": [
    {
     "data": {
      "text/plain": [
       "{1, 2, 3, 6}"
      ]
     },
     "execution_count": 58,
     "metadata": {},
     "output_type": "execute_result"
    }
   ],
   "source": [
    "s"
   ]
  },
  {
   "cell_type": "code",
   "execution_count": null,
   "id": "9c4757d9-0c05-4573-9dce-45a1fe64e21d",
   "metadata": {},
   "outputs": [],
   "source": []
  },
  {
   "cell_type": "code",
   "execution_count": 59,
   "id": "74a4c1cc-6dec-4a86-a640-6107b2c73a68",
   "metadata": {},
   "outputs": [
    {
     "data": {
      "text/plain": [
       "False"
      ]
     },
     "execution_count": 59,
     "metadata": {},
     "output_type": "execute_result"
    }
   ],
   "source": [
    "1==3"
   ]
  },
  {
   "cell_type": "code",
   "execution_count": 61,
   "id": "d2f14cec-d0ab-4879-b914-4737b2466791",
   "metadata": {},
   "outputs": [
    {
     "name": "stdout",
     "output_type": "stream",
     "text": [
      "try\n",
      "1\n"
     ]
    }
   ],
   "source": [
    "if 1<2:\n",
    "    print('try')\n",
    "    print('1')\n",
    "else:\n",
    "    print('do not try')\n",
    "    print('t')"
   ]
  },
  {
   "cell_type": "code",
   "execution_count": null,
   "id": "e658f636-4257-4d56-99ae-5418eb7c8cc1",
   "metadata": {},
   "outputs": [],
   "source": []
  },
  {
   "cell_type": "code",
   "execution_count": 66,
   "id": "fefc30b5-156e-4c3e-ba2e-6d3c0eb2fd4e",
   "metadata": {},
   "outputs": [
    {
     "name": "stdout",
     "output_type": "stream",
     "text": [
      "1\n",
      "2\n",
      "3\n",
      "5\n",
      "7\n"
     ]
    }
   ],
   "source": [
    "seq=[1,2,3,5,7]\n",
    "for item in seq:\n",
    "  print(item)"
   ]
  },
  {
   "cell_type": "code",
   "execution_count": 69,
   "id": "bb89b51e-9ca3-44fb-8300-899dbe7c4210",
   "metadata": {},
   "outputs": [
    {
     "name": "stdout",
     "output_type": "stream",
     "text": [
      "0\n",
      "1\n",
      "2\n",
      "3\n",
      "4\n"
     ]
    }
   ],
   "source": [
    "for x in range(0,5):\n",
    "    print(x)\n",
    "    "
   ]
  },
  {
   "cell_type": "code",
   "execution_count": 70,
   "id": "d4e1b57f-7646-4301-9f6b-8e1c6a723d2f",
   "metadata": {},
   "outputs": [],
   "source": [
    "x=[1,2,3,4,5]"
   ]
  },
  {
   "cell_type": "code",
   "execution_count": 72,
   "id": "ec4e7e15-5ebc-4cd3-9e16-aa058ef20bd6",
   "metadata": {},
   "outputs": [],
   "source": [
    "out=[]\n",
    "for num in x:\n",
    "  out.append(num** 2)"
   ]
  },
  {
   "cell_type": "code",
   "execution_count": null,
   "id": "34bbf3d3-b7dc-4dc6-a70a-67264104b52c",
   "metadata": {},
   "outputs": [],
   "source": []
  },
  {
   "cell_type": "code",
   "execution_count": 74,
   "id": "bc59d635-5d32-460b-ae5a-7f67d2c435ba",
   "metadata": {},
   "outputs": [],
   "source": [
    "def my_func(name):\n",
    "    print(name)"
   ]
  },
  {
   "cell_type": "code",
   "execution_count": 75,
   "id": "173c511c-31f1-4038-b6c2-32570e3cab81",
   "metadata": {},
   "outputs": [
    {
     "name": "stdout",
     "output_type": "stream",
     "text": [
      "hello\n"
     ]
    }
   ],
   "source": [
    "my_func('hello')"
   ]
  },
  {
   "cell_type": "code",
   "execution_count": null,
   "id": "b3b4abef-c7fc-4d40-af70-78b77dcf2403",
   "metadata": {},
   "outputs": [],
   "source": [
    "# lamda function"
   ]
  },
  {
   "cell_type": "code",
   "execution_count": 76,
   "id": "581b0c38-51fe-4c91-97e5-a12cf098ae84",
   "metadata": {},
   "outputs": [],
   "source": [
    "def times2(var):\n",
    "    return var*2\n",
    "    "
   ]
  },
  {
   "cell_type": "code",
   "execution_count": 77,
   "id": "493f6159-28de-4b45-8f55-1fd11db536aa",
   "metadata": {},
   "outputs": [
    {
     "data": {
      "text/plain": [
       "6"
      ]
     },
     "execution_count": 77,
     "metadata": {},
     "output_type": "execute_result"
    }
   ],
   "source": [
    "times2(3)"
   ]
  },
  {
   "cell_type": "code",
   "execution_count": 78,
   "id": "19a4e408-f690-4e5e-a8c5-7f59844aad1a",
   "metadata": {},
   "outputs": [],
   "source": [
    "seq=[1,2,3,4,5]"
   ]
  },
  {
   "cell_type": "code",
   "execution_count": 80,
   "id": "c1dfcef1-f5ec-4a68-81d1-313fdb6eb6a5",
   "metadata": {},
   "outputs": [
    {
     "data": {
      "text/plain": [
       "<map at 0x157177070>"
      ]
     },
     "execution_count": 80,
     "metadata": {},
     "output_type": "execute_result"
    }
   ],
   "source": [
    "map(times2,seq)"
   ]
  },
  {
   "cell_type": "code",
   "execution_count": 81,
   "id": "0dd254d8-ca4d-4351-9edf-77781b127a19",
   "metadata": {},
   "outputs": [
    {
     "data": {
      "text/plain": [
       "[2, 4, 6, 8, 10]"
      ]
     },
     "execution_count": 81,
     "metadata": {},
     "output_type": "execute_result"
    }
   ],
   "source": [
    "list(map(times2,seq))"
   ]
  },
  {
   "cell_type": "code",
   "execution_count": null,
   "id": "b5c001c8-fe78-461e-a4f7-17e9a2cbb915",
   "metadata": {},
   "outputs": [],
   "source": []
  },
  {
   "cell_type": "code",
   "execution_count": 83,
   "id": "0273da3b-776a-4c03-94a8-57c332c6cb93",
   "metadata": {},
   "outputs": [
    {
     "data": {
      "text/plain": [
       "[3, 6, 9, 12, 15]"
      ]
     },
     "execution_count": 83,
     "metadata": {},
     "output_type": "execute_result"
    }
   ],
   "source": [
    "list(map(lambda num: num*3,seq))"
   ]
  },
  {
   "cell_type": "code",
   "execution_count": 84,
   "id": "f36ccb8c-ba5d-416f-a147-908706ea29be",
   "metadata": {},
   "outputs": [
    {
     "data": {
      "text/plain": [
       "<filter at 0x157175ed0>"
      ]
     },
     "execution_count": 84,
     "metadata": {},
     "output_type": "execute_result"
    }
   ],
   "source": [
    "filter(lambda num: num%2==0,seq)"
   ]
  },
  {
   "cell_type": "code",
   "execution_count": 85,
   "id": "f44be696-0af9-48a7-8c2a-5a9f5cb2d869",
   "metadata": {},
   "outputs": [
    {
     "data": {
      "text/plain": [
       "[2, 4]"
      ]
     },
     "execution_count": 85,
     "metadata": {},
     "output_type": "execute_result"
    }
   ],
   "source": [
    "list(filter(lambda num: num%2==0,seq))"
   ]
  },
  {
   "cell_type": "code",
   "execution_count": null,
   "id": "134a9153-204c-466b-9b22-eb72cee5c65f",
   "metadata": {},
   "outputs": [],
   "source": []
  }
 ],
 "metadata": {
  "kernelspec": {
   "display_name": "Python [conda env:base] *",
   "language": "python",
   "name": "conda-base-py"
  },
  "language_info": {
   "codemirror_mode": {
    "name": "ipython",
    "version": 3
   },
   "file_extension": ".py",
   "mimetype": "text/x-python",
   "name": "python",
   "nbconvert_exporter": "python",
   "pygments_lexer": "ipython3",
   "version": "3.13.5"
  }
 },
 "nbformat": 4,
 "nbformat_minor": 5
}
