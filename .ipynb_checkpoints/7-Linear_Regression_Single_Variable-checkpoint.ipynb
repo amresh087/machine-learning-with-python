{
 "cells": [
  {
   "cell_type": "code",
   "execution_count": null,
   "id": "a0f502b3-0f40-4f49-b679-2df2f6c16126",
   "metadata": {},
   "outputs": [],
   "source": []
  }
 ],
 "metadata": {
  "kernelspec": {
   "display_name": "Python [conda env:base] *",
   "language": "python",
   "name": "conda-base-py"
  },
  "language_info": {
   "codemirror_mode": {
    "name": "ipython",
    "version": 3
   },
   "file_extension": ".py",
   "mimetype": "text/x-python",
   "name": "python",
   "nbconvert_exporter": "python",
   "pygments_lexer": "ipython3",
   "version": "3.13.5"
  }
 },
 "nbformat": 4,
 "nbformat_minor": 5
}
